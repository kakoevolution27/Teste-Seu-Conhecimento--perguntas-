{
 "cells": [
  {
   "cell_type": "markdown",
   "metadata": {},
   "source": [
    "1 - Qual é a diferença entre batch learning e online learning?\n",
    "\n",
    "2 - O que são redes neurais artificiais e como elas se inspiram no cérebro humano?\n",
    "\n",
    "4 - O que é o termo learning rate e como ele afeta o treinamento de um modelo?\n",
    "\n",
    "4 - Explique a diferença entre classificação binária e classificação multiclasse.\n",
    "\n",
    "5 - O que significa o conceito de cross-entropy em Machine Learning?\n",
    "\n",
    "6 - Como funcionam os algoritmos de vizinhos mais próximos, como o k-NN (k-Nearest Neighbors)?\n",
    "\n",
    "7 - O que é a matriz de confusão e quais métricas podem ser extraídas dela?\n",
    "\n",
    "8 - O que é ensemble learning e como ele melhora o desempenho de modelos?\n",
    "\n",
    "9 - Qual é o papel da função de ativação em uma rede neural?\n",
    "\n",
    "10 - O que é o problema do vanishing gradient em redes neurais profundas?\n"
   ]
  }
 ],
 "metadata": {
  "language_info": {
   "name": "python"
  }
 },
 "nbformat": 4,
 "nbformat_minor": 2
}
