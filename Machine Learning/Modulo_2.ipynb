{
 "cells": [
  {
   "cell_type": "markdown",
   "metadata": {},
   "source": [
    "1 - O que é a diferença entre um modelo paramétrico e um não paramétrico?\n",
    "\n",
    "2 - Como funciona o algoritmo de Gradiente Descendente?\n",
    "\n",
    "3 - O que é um conjunto de treinamento (training set) e um conjunto de teste (test set), e por que são importantes?\n",
    "\n",
    "4 - Explique o conceito de feature engineering.\n",
    "\n",
    "5 - O que é a métrica de acurácia e por que nem sempre ela é suficiente para avaliar um modelo?\n",
    "\n",
    "6 - Como os métodos de bagging e boosting diferem entre si?\n",
    "\n",
    "7 - O que é um classificador Naive Bayes e em que situações ele é mais utilizado?\n",
    "\n",
    "8 - O que é um kernel em um algoritmo SVM (Support Vector Machine)?\n",
    "\n",
    "9 - Como funciona a técnica de redução de dimensionalidade chamada PCA (Principal Component Analysis)?\n",
    "\n",
    "10 - Quais são os principais problemas associados a dados desbalanceados em Machine Learning?\n"
   ]
  }
 ],
 "metadata": {
  "language_info": {
   "name": "python"
  }
 },
 "nbformat": 4,
 "nbformat_minor": 2
}
