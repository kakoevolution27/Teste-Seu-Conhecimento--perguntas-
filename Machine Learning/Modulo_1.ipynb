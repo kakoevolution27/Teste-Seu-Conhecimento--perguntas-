{
 "cells": [
  {
   "cell_type": "markdown",
   "metadata": {},
   "source": [
    "1 - O que é aprendizado supervisionado e como ele difere do aprendizado não supervisionado?\n",
    "\n",
    "2 - O que significa o termo \"overfitting\" em Machine Learning?\n",
    "\n",
    "3 - Qual é a principal função de uma função de perda (loss function) em um modelo?\n",
    "\n",
    "4 - O que é uma regressão linear e como ela é usada em Machine Learning?\n",
    "\n",
    "5 - Como funciona o método de validação cruzada (cross-validation)?\n",
    "\n",
    "6 - O que é um hiperparâmetro em Machine Learning e como ele é ajustado?\n",
    "\n",
    "7 - Quais são os principais passos no pré-processamento de dados antes de treinar um modelo?\n",
    "\n",
    "8 - O que é uma árvore de decisão e como ela toma decisões?\n",
    "\n",
    "9 - Como funciona o algoritmo k-means para clustering?\n",
    "\n",
    "10 - O que significa \"regularização\" em Machine Learning e por que ela é importante?\n"
   ]
  },
  {
   "cell_type": "code",
   "execution_count": null,
   "metadata": {},
   "outputs": [],
   "source": []
  }
 ],
 "metadata": {
  "kernelspec": {
   "display_name": "base",
   "language": "python",
   "name": "python3"
  },
  "language_info": {
   "name": "python",
   "version": "3.12.7"
  }
 },
 "nbformat": 4,
 "nbformat_minor": 2
}
