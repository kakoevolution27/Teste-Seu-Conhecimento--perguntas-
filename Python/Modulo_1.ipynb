{
 "cells": [
  {
   "cell_type": "markdown",
   "metadata": {},
   "source": [
    "O que são variáveis em Python e como são declaradas?\n",
    "\n",
    "Qual a diferença entre listas e tuplas em Python?\n",
    "\n",
    "Como você cria um dicionário em Python?\n",
    "\n",
    "O que é uma string e como você pode manipulá-la?\n",
    "\n",
    "Qual a função do comando len() em Python?\n",
    "\n",
    "O que é o conceito de indentação e por que ele é importante em Python?\n",
    "\n",
    "Como usar loops for e while em Python?\n",
    "\n",
    "O que é uma função e como você define uma em Python?\n",
    "\n",
    "Como capturar erros em Python usando o bloco try...except?\n",
    "\n",
    "Qual a diferença entre append() e extend() em listas?"
   ]
  }
 ],
 "metadata": {
  "language_info": {
   "name": "python"
  }
 },
 "nbformat": 4,
 "nbformat_minor": 2
}
