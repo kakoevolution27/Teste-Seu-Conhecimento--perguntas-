{
 "cells": [
  {
   "cell_type": "markdown",
   "metadata": {},
   "source": [
    "O que é um contexto gerenciado e como usar with em Python?\n",
    "\n",
    "O que é a diferença entre argumentos posicionais e nomeados em funções?\n",
    "\n",
    "Explique o conceito de módulos e pacotes em Python.\n",
    "\n",
    "O que é e como funciona o GIL (Global Interpreter Lock) no Python?\n",
    "\n",
    "Qual a diferença entre deepcopy e copy?\n",
    "\n",
    "Como usar o módulo os para manipular arquivos e diretórios?\n",
    "\n",
    "O que são lambda functions e quando usá-las?\n",
    "\n",
    "Como funciona a serialização de dados com o módulo pickle?\n",
    "\n",
    "O que são f-strings e como elas podem ser usadas para formatar strings?\n",
    "\n",
    "Como utilizar async e await para programação assíncrona em Python?\n"
   ]
  }
 ],
 "metadata": {
  "language_info": {
   "name": "python"
  }
 },
 "nbformat": 4,
 "nbformat_minor": 2
}
