{
 "cells": [
  {
   "cell_type": "markdown",
   "metadata": {},
   "source": [
    "O que são list comprehensions e como utilizá-las?\n",
    "\n",
    "Qual é a diferença entre is e == em Python?\n",
    "\n",
    "Como funciona o gerenciamento de arquivos com open()?\n",
    "\n",
    "O que são decoradores e para que eles são usados?\n",
    "\n",
    "Qual a diferença entre métodos estáticos e métodos de classe?\n",
    "\n",
    "Explique o conceito de escopo de variáveis em Python.\n",
    "\n",
    "O que é um gerador (generator) e como ele funciona?\n",
    "\n",
    "Como funciona a herança em classes Python?\n",
    "\n",
    "O que é o módulo collections e cite alguns exemplos de suas classes úteis.\n",
    "\n",
    "Como usar o módulo datetime para manipular datas e horários?"
   ]
  }
 ],
 "metadata": {
  "language_info": {
   "name": "python"
  }
 },
 "nbformat": 4,
 "nbformat_minor": 2
}
